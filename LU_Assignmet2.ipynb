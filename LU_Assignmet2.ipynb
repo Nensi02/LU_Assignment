{
 "cells": [
  {
   "cell_type": "code",
   "execution_count": 5,
   "metadata": {},
   "outputs": [
    {
     "name": "stdout",
     "output_type": "stream",
     "text": [
      "2\n",
      "[2]\n",
      "3\n",
      "4\n",
      "[2, 4]\n",
      "5\n",
      "10\n",
      "[2, 4, 10]\n",
      "22\n",
      "[2, 4, 10, 22]\n",
      "7\n",
      "45\n",
      "44\n",
      "[2, 4, 10, 22, 44]\n",
      "90\n",
      "[2, 4, 10, 22, 44, 90]\n"
     ]
    }
   ],
   "source": [
    "Emli= []\n",
    "\n",
    "for i in range(10):\n",
    "    n= int(input( ))\n",
    "    if n%2==0:\n",
    "        Emli.append(n)\n",
    "        print(Emli)"
   ]
  }
 ],
 "metadata": {
  "kernelspec": {
   "display_name": "Python 3",
   "language": "python",
   "name": "python3"
  },
  "language_info": {
   "codemirror_mode": {
    "name": "ipython",
    "version": 3
   },
   "file_extension": ".py",
   "mimetype": "text/x-python",
   "name": "python",
   "nbconvert_exporter": "python",
   "pygments_lexer": "ipython3",
   "version": "3.8.3"
  }
 },
 "nbformat": 4,
 "nbformat_minor": 4
}
